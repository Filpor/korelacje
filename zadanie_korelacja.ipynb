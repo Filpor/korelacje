{
 "cells": [
  {
   "cell_type": "code",
   "execution_count": 86,
   "id": "11d15a0c",
   "metadata": {},
   "outputs": [
    {
     "data": {
      "text/html": [
       "<div>\n",
       "<style scoped>\n",
       "    .dataframe tbody tr th:only-of-type {\n",
       "        vertical-align: middle;\n",
       "    }\n",
       "\n",
       "    .dataframe tbody tr th {\n",
       "        vertical-align: top;\n",
       "    }\n",
       "\n",
       "    .dataframe thead th {\n",
       "        text-align: right;\n",
       "    }\n",
       "</style>\n",
       "<table border=\"1\" class=\"dataframe\">\n",
       "  <thead>\n",
       "    <tr style=\"text-align: right;\">\n",
       "      <th></th>\n",
       "      <th>Fertility rate</th>\n",
       "      <th>Life expectancy at birth</th>\n",
       "    </tr>\n",
       "    <tr>\n",
       "      <th>id</th>\n",
       "      <th></th>\n",
       "      <th></th>\n",
       "    </tr>\n",
       "  </thead>\n",
       "  <tbody>\n",
       "    <tr>\n",
       "      <th>1.0</th>\n",
       "      <td>1.300</td>\n",
       "      <td>76.84878</td>\n",
       "    </tr>\n",
       "    <tr>\n",
       "      <th>2.0</th>\n",
       "      <td>1.950</td>\n",
       "      <td>81.40732</td>\n",
       "    </tr>\n",
       "    <tr>\n",
       "      <th>3.0</th>\n",
       "      <td>2.466</td>\n",
       "      <td>77.57895</td>\n",
       "    </tr>\n",
       "    <tr>\n",
       "      <th>4.0</th>\n",
       "      <td>1.600</td>\n",
       "      <td>74.16341</td>\n",
       "    </tr>\n",
       "    <tr>\n",
       "      <th>5.0</th>\n",
       "      <td>2.952</td>\n",
       "      <td>68.84907</td>\n",
       "    </tr>\n",
       "    <tr>\n",
       "      <th>6.0</th>\n",
       "      <td>1.801</td>\n",
       "      <td>73.88595</td>\n",
       "    </tr>\n",
       "    <tr>\n",
       "      <th>7.0</th>\n",
       "      <td>1.340</td>\n",
       "      <td>75.26829</td>\n",
       "    </tr>\n",
       "    <tr>\n",
       "      <th>8.0</th>\n",
       "      <td>1.340</td>\n",
       "      <td>76.26098</td>\n",
       "    </tr>\n",
       "    <tr>\n",
       "      <th>9.0</th>\n",
       "      <td>1.630</td>\n",
       "      <td>80.57244</td>\n",
       "    </tr>\n",
       "    <tr>\n",
       "      <th>10.0</th>\n",
       "      <td>2.326</td>\n",
       "      <td>65.46259</td>\n",
       "    </tr>\n",
       "    <tr>\n",
       "      <th>11.0</th>\n",
       "      <td>2.436</td>\n",
       "      <td>67.54820</td>\n",
       "    </tr>\n",
       "    <tr>\n",
       "      <th>12.0</th>\n",
       "      <td>6.563</td>\n",
       "      <td>55.02451</td>\n",
       "    </tr>\n",
       "    <tr>\n",
       "      <th>13.0</th>\n",
       "      <td>1.283</td>\n",
       "      <td>76.27990</td>\n",
       "    </tr>\n",
       "    <tr>\n",
       "      <th>14.0</th>\n",
       "      <td>1.430</td>\n",
       "      <td>82.29024</td>\n",
       "    </tr>\n",
       "    <tr>\n",
       "      <th>15.0</th>\n",
       "      <td>1.988</td>\n",
       "      <td>69.80695</td>\n",
       "    </tr>\n",
       "    <tr>\n",
       "      <th>16.0</th>\n",
       "      <td>1.610</td>\n",
       "      <td>81.40112</td>\n",
       "    </tr>\n",
       "    <tr>\n",
       "      <th>17.0</th>\n",
       "      <td>1.921</td>\n",
       "      <td>82.29024</td>\n",
       "    </tr>\n",
       "    <tr>\n",
       "      <th>18.0</th>\n",
       "      <td>2.400</td>\n",
       "      <td>74.22683</td>\n",
       "    </tr>\n",
       "    <tr>\n",
       "      <th>19.0</th>\n",
       "      <td>1.495</td>\n",
       "      <td>80.12888</td>\n",
       "    </tr>\n",
       "    <tr>\n",
       "      <th>20.0</th>\n",
       "      <td>4.705</td>\n",
       "      <td>45.55095</td>\n",
       "    </tr>\n",
       "  </tbody>\n",
       "</table>\n",
       "</div>"
      ],
      "text/plain": [
       "      Fertility rate  Life expectancy at birth\n",
       "id                                            \n",
       "1.0            1.300                  76.84878\n",
       "2.0            1.950                  81.40732\n",
       "3.0            2.466                  77.57895\n",
       "4.0            1.600                  74.16341\n",
       "5.0            2.952                  68.84907\n",
       "6.0            1.801                  73.88595\n",
       "7.0            1.340                  75.26829\n",
       "8.0            1.340                  76.26098\n",
       "9.0            1.630                  80.57244\n",
       "10.0           2.326                  65.46259\n",
       "11.0           2.436                  67.54820\n",
       "12.0           6.563                  55.02451\n",
       "13.0           1.283                  76.27990\n",
       "14.0           1.430                  82.29024\n",
       "15.0           1.988                  69.80695\n",
       "16.0           1.610                  81.40112\n",
       "17.0           1.921                  82.29024\n",
       "18.0           2.400                  74.22683\n",
       "19.0           1.495                  80.12888\n",
       "20.0           4.705                  45.55095"
      ]
     },
     "execution_count": 86,
     "metadata": {},
     "output_type": "execute_result"
    }
   ],
   "source": [
    "import numpy as np\n",
    "import pandas as pd\n",
    "import matplotlib.pyplot as plt\n",
    "\n",
    "data=np.array([\n",
    "    [1,1.3,76.84878],\n",
    "    [2,1.95,81.40732],\n",
    "    [3,2.466,77.57895],\n",
    "    [4,1.6,74.16341],\n",
    "    [5,2.952,68.84907],\n",
    "    [6,1.801,73.88595],\n",
    "    [7,1.34,75.26829],\n",
    "    [8,1.34,76.26098],\n",
    "    [9,1.63,80.57244],\n",
    "    [10,2.326,65.46259],\n",
    "    [11,2.436,67.5482],\n",
    "    [12,6.563,55.02451],\n",
    "    [13,1.283,76.2799],\n",
    "    [14,1.43,82.29024],\n",
    "    [15,1.988,69.80695],\n",
    "    [16,1.61,81.40112],\n",
    "    [17,1.921,82.29024],\n",
    "    [18,2.4,74.22683],\n",
    "    [19,1.495,80.12888],\n",
    "    [20,4.705,45.55095]\n",
    "])\n",
    "df=pd.DataFrame(data, columns=[\"id\",'Fertility rate','Life expectancy at birth'])\n",
    "df=df.set_index(\"id\")\n",
    "df\n",
    "\n",
    "\n",
    "\n",
    "\n",
    "\n",
    "\n",
    "\n"
   ]
  },
  {
   "cell_type": "markdown",
   "id": "c011f1fa",
   "metadata": {},
   "source": [
    "### Średnia Artmetyczna przewidywanej długości życia"
   ]
  },
  {
   "cell_type": "code",
   "execution_count": 82,
   "id": "5d0461a2",
   "metadata": {
    "scrolled": true
   },
   "outputs": [
    {
     "data": {
      "text/plain": [
       "73.237646"
      ]
     },
     "execution_count": 82,
     "metadata": {},
     "output_type": "execute_result"
    }
   ],
   "source": [
    "data.sum(axis=0)[2]/20"
   ]
  },
  {
   "cell_type": "markdown",
   "id": "b07ddb60",
   "metadata": {},
   "source": [
    "### Mediana"
   ]
  },
  {
   "cell_type": "code",
   "execution_count": 83,
   "id": "d04e9f91",
   "metadata": {},
   "outputs": [
    {
     "data": {
      "text/plain": [
       "75.764635"
      ]
     },
     "execution_count": 83,
     "metadata": {},
     "output_type": "execute_result"
    }
   ],
   "source": [
    "x=np.median(data, axis=0)\n",
    "x[2]"
   ]
  },
  {
   "cell_type": "markdown",
   "id": "be09f8e5",
   "metadata": {},
   "source": [
    "### Dominanta"
   ]
  },
  {
   "cell_type": "code",
   "execution_count": 87,
   "id": "95776172",
   "metadata": {},
   "outputs": [
    {
     "data": {
      "text/plain": [
       "0    82.29024\n",
       "Name: Life expectancy at birth, dtype: float64"
      ]
     },
     "execution_count": 87,
     "metadata": {},
     "output_type": "execute_result"
    }
   ],
   "source": [
    "df.loc[:,\"Life expectancy at birth\"].mode()\n"
   ]
  },
  {
   "cell_type": "markdown",
   "id": "b3c2ae42",
   "metadata": {},
   "source": [
    "###  Wariancja"
   ]
  },
  {
   "cell_type": "code",
   "execution_count": 91,
   "id": "0e494092",
   "metadata": {},
   "outputs": [
    {
     "data": {
      "text/plain": [
       "88.28195291131578"
      ]
     },
     "execution_count": 91,
     "metadata": {},
     "output_type": "execute_result"
    }
   ],
   "source": [
    "df['Life expectancy at birth'].var()"
   ]
  },
  {
   "cell_type": "markdown",
   "id": "5de1346e",
   "metadata": {},
   "source": [
    "### Odchylenie standardowe przewidywanej długości życia "
   ]
  },
  {
   "cell_type": "code",
   "execution_count": 94,
   "id": "a4bff820",
   "metadata": {},
   "outputs": [
    {
     "data": {
      "text/plain": [
       "9.39584764198078"
      ]
     },
     "execution_count": 94,
     "metadata": {},
     "output_type": "execute_result"
    }
   ],
   "source": [
    "import math\n",
    "math.sqrt(df['Life expectancy at birth'].var())"
   ]
  },
  {
   "cell_type": "markdown",
   "id": "d97bd0e3",
   "metadata": {},
   "source": [
    "###  Odychelnie standardowe współczynnika dzietności"
   ]
  },
  {
   "cell_type": "code",
   "execution_count": 95,
   "id": "1c019efe",
   "metadata": {},
   "outputs": [
    {
     "data": {
      "text/plain": [
       "1.2904866727834035"
      ]
     },
     "execution_count": 95,
     "metadata": {},
     "output_type": "execute_result"
    }
   ],
   "source": [
    "math.sqrt(df['Fertility rate'].var())"
   ]
  },
  {
   "cell_type": "markdown",
   "id": "c5465938",
   "metadata": {},
   "source": [
    "###  Korelacja "
   ]
  },
  {
   "cell_type": "code",
   "execution_count": 99,
   "id": "9e92416d",
   "metadata": {},
   "outputs": [
    {
     "data": {
      "text/html": [
       "<div>\n",
       "<style scoped>\n",
       "    .dataframe tbody tr th:only-of-type {\n",
       "        vertical-align: middle;\n",
       "    }\n",
       "\n",
       "    .dataframe tbody tr th {\n",
       "        vertical-align: top;\n",
       "    }\n",
       "\n",
       "    .dataframe thead th {\n",
       "        text-align: right;\n",
       "    }\n",
       "</style>\n",
       "<table border=\"1\" class=\"dataframe\">\n",
       "  <thead>\n",
       "    <tr style=\"text-align: right;\">\n",
       "      <th></th>\n",
       "      <th>Fertility rate</th>\n",
       "      <th>Life expectancy at birth</th>\n",
       "    </tr>\n",
       "  </thead>\n",
       "  <tbody>\n",
       "    <tr>\n",
       "      <th>Fertility rate</th>\n",
       "      <td>1.000000</td>\n",
       "      <td>-0.820208</td>\n",
       "    </tr>\n",
       "    <tr>\n",
       "      <th>Life expectancy at birth</th>\n",
       "      <td>-0.820208</td>\n",
       "      <td>1.000000</td>\n",
       "    </tr>\n",
       "  </tbody>\n",
       "</table>\n",
       "</div>"
      ],
      "text/plain": [
       "                          Fertility rate  Life expectancy at birth\n",
       "Fertility rate                  1.000000                 -0.820208\n",
       "Life expectancy at birth       -0.820208                  1.000000"
      ]
     },
     "execution_count": 99,
     "metadata": {},
     "output_type": "execute_result"
    }
   ],
   "source": [
    "df.corr()"
   ]
  },
  {
   "cell_type": "markdown",
   "id": "4742f4bd",
   "metadata": {},
   "source": [
    "### Przedział ufności"
   ]
  },
  {
   "cell_type": "code",
   "execution_count": 116,
   "id": "27763f69",
   "metadata": {},
   "outputs": [
    {
     "name": "stdout",
     "output_type": "stream",
     "text": [
      "69.25377784856727 77.22151415143273\n"
     ]
    }
   ],
   "source": [
    "import math\n",
    "x1=(73.237646-1.96*(9.09/20**(1/2)))\n",
    "x2=(73.237646+1.96*(9.09/20**(1/2)))\n",
    "print( x1 ,x2)\n",
    "\n"
   ]
  },
  {
   "cell_type": "code",
   "execution_count": null,
   "id": "31b4923f",
   "metadata": {},
   "outputs": [],
   "source": []
  },
  {
   "cell_type": "code",
   "execution_count": null,
   "id": "c4891475",
   "metadata": {},
   "outputs": [],
   "source": []
  }
 ],
 "metadata": {
  "kernelspec": {
   "display_name": "Python 3 (ipykernel)",
   "language": "python",
   "name": "python3"
  },
  "language_info": {
   "codemirror_mode": {
    "name": "ipython",
    "version": 3
   },
   "file_extension": ".py",
   "mimetype": "text/x-python",
   "name": "python",
   "nbconvert_exporter": "python",
   "pygments_lexer": "ipython3",
   "version": "3.10.1"
  }
 },
 "nbformat": 4,
 "nbformat_minor": 5
}
